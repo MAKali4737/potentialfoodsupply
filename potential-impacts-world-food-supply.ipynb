{
 "cells": [
  {
   "cell_type": "code",
   "execution_count": 3,
   "metadata": {},
   "outputs": [],
   "source": [
    "import pandas as pd\n",
    "import numpy as np"
   ]
  },
  {
   "cell_type": "code",
   "execution_count": 4,
   "metadata": {},
   "outputs": [],
   "source": [
    "df=pd.read_csv(r'C:\\Users\\amak7\\Desktop\\\\Legit\\Datasets\\supply.csv')  \n",
    "  "
   ]
  },
  {
   "cell_type": "code",
   "execution_count": 5,
   "metadata": {},
   "outputs": [
    {
     "output_type": "execute_result",
     "data": {
      "text/plain": "   File Code  BLS Code BLS Region BLS Region 2  Scenario Code Scenario  \\\n0          1         9  Argentina    Argentina              1     GISS   \n1          1         9  Argentina    Argentina              2     GISS   \n2          1         9  Argentina    Argentina              3     GISS   \n3          1         9  Argentina    Argentina              4     GISS   \n4          1         9  Argentina    Argentina              5     GFDL   \n\n    Time_Slice CO2 effects  CO2 ppm Adapt- ation  wheat  rice  coarse grains  \\\n0  Equilibrium          No      330           No    -46   -46            -17   \n1  Equilibrium         Yes      555           No    -34   -35            -13   \n2  Equilibrium         Yes      555      Level 1    -15   -15              0   \n3  Equilibrium         Yes      555      Level 2      0     0              0   \n4  Equilibrium          No      330           No    -43   -43            -28   \n\n   protein feed  Unnamed: 14  grains  four commo-dities  \n0           -17          NaN     -36                -32  \n1             0          NaN     -27                -21  \n2            17          NaN     -10                 -3  \n3            17          NaN       0                  4  \n4           -28          NaN     -38                -36  ",
      "text/html": "<div>\n<style scoped>\n    .dataframe tbody tr th:only-of-type {\n        vertical-align: middle;\n    }\n\n    .dataframe tbody tr th {\n        vertical-align: top;\n    }\n\n    .dataframe thead th {\n        text-align: right;\n    }\n</style>\n<table border=\"1\" class=\"dataframe\">\n  <thead>\n    <tr style=\"text-align: right;\">\n      <th></th>\n      <th>File Code</th>\n      <th>BLS Code</th>\n      <th>BLS Region</th>\n      <th>BLS Region 2</th>\n      <th>Scenario Code</th>\n      <th>Scenario</th>\n      <th>Time_Slice</th>\n      <th>CO2 effects</th>\n      <th>CO2 ppm</th>\n      <th>Adapt- ation</th>\n      <th>wheat</th>\n      <th>rice</th>\n      <th>coarse grains</th>\n      <th>protein feed</th>\n      <th>Unnamed: 14</th>\n      <th>grains</th>\n      <th>four commo-dities</th>\n    </tr>\n  </thead>\n  <tbody>\n    <tr>\n      <th>0</th>\n      <td>1</td>\n      <td>9</td>\n      <td>Argentina</td>\n      <td>Argentina</td>\n      <td>1</td>\n      <td>GISS</td>\n      <td>Equilibrium</td>\n      <td>No</td>\n      <td>330</td>\n      <td>No</td>\n      <td>-46</td>\n      <td>-46</td>\n      <td>-17</td>\n      <td>-17</td>\n      <td>NaN</td>\n      <td>-36</td>\n      <td>-32</td>\n    </tr>\n    <tr>\n      <th>1</th>\n      <td>1</td>\n      <td>9</td>\n      <td>Argentina</td>\n      <td>Argentina</td>\n      <td>2</td>\n      <td>GISS</td>\n      <td>Equilibrium</td>\n      <td>Yes</td>\n      <td>555</td>\n      <td>No</td>\n      <td>-34</td>\n      <td>-35</td>\n      <td>-13</td>\n      <td>0</td>\n      <td>NaN</td>\n      <td>-27</td>\n      <td>-21</td>\n    </tr>\n    <tr>\n      <th>2</th>\n      <td>1</td>\n      <td>9</td>\n      <td>Argentina</td>\n      <td>Argentina</td>\n      <td>3</td>\n      <td>GISS</td>\n      <td>Equilibrium</td>\n      <td>Yes</td>\n      <td>555</td>\n      <td>Level 1</td>\n      <td>-15</td>\n      <td>-15</td>\n      <td>0</td>\n      <td>17</td>\n      <td>NaN</td>\n      <td>-10</td>\n      <td>-3</td>\n    </tr>\n    <tr>\n      <th>3</th>\n      <td>1</td>\n      <td>9</td>\n      <td>Argentina</td>\n      <td>Argentina</td>\n      <td>4</td>\n      <td>GISS</td>\n      <td>Equilibrium</td>\n      <td>Yes</td>\n      <td>555</td>\n      <td>Level 2</td>\n      <td>0</td>\n      <td>0</td>\n      <td>0</td>\n      <td>17</td>\n      <td>NaN</td>\n      <td>0</td>\n      <td>4</td>\n    </tr>\n    <tr>\n      <th>4</th>\n      <td>1</td>\n      <td>9</td>\n      <td>Argentina</td>\n      <td>Argentina</td>\n      <td>5</td>\n      <td>GFDL</td>\n      <td>Equilibrium</td>\n      <td>No</td>\n      <td>330</td>\n      <td>No</td>\n      <td>-43</td>\n      <td>-43</td>\n      <td>-28</td>\n      <td>-28</td>\n      <td>NaN</td>\n      <td>-38</td>\n      <td>-36</td>\n    </tr>\n  </tbody>\n</table>\n</div>"
     },
     "metadata": {},
     "execution_count": 5
    }
   ],
   "source": [
    "df.head()"
   ]
  },
  {
   "cell_type": "code",
   "execution_count": 6,
   "metadata": {
    "tags": []
   },
   "outputs": [
    {
     "output_type": "stream",
     "name": "stdout",
     "text": "(1088, 17)\n"
    }
   ],
   "source": [
    "print(df.shape)"
   ]
  },
  {
   "cell_type": "code",
   "execution_count": 7,
   "metadata": {
    "tags": []
   },
   "outputs": [
    {
     "output_type": "stream",
     "name": "stdout",
     "text": "File Code              int64\nBLS Code               int64\nBLS Region            object\nBLS Region 2          object\nScenario Code          int64\nScenario              object\nTime_Slice            object\nCO2 effects           object\nCO2 ppm                int64\nAdapt- ation          object\nwheat                  int64\nrice                   int64\ncoarse grains          int64\nprotein feed           int64\nUnnamed: 14          float64\ngrains                 int64\nfour commo-dities      int64\ndtype: object\n\nFile Code               0\nBLS Code                0\nBLS Region              0\nBLS Region 2            0\nScenario Code           0\nScenario                0\nTime_Slice              0\nCO2 effects             0\nCO2 ppm                 0\nAdapt- ation            0\nwheat                   0\nrice                    0\ncoarse grains           0\nprotein feed            0\nUnnamed: 14          1088\ngrains                  0\nfour commo-dities       0\ndtype: int64\n"
    }
   ],
   "source": [
    "print(df.dtypes) # variables and their types in dataset\n",
    "print()\n",
    "print(df.isnull().sum()) "
   ]
  },
  {
   "cell_type": "code",
   "execution_count": 8,
   "metadata": {},
   "outputs": [],
   "source": [
    "df=df.drop(['Unnamed: 14'], axis=1)"
   ]
  },
  {
   "cell_type": "code",
   "execution_count": 9,
   "metadata": {},
   "outputs": [
    {
     "output_type": "execute_result",
     "data": {
      "text/plain": "   File Code  BLS Code BLS Region BLS Region 2  Scenario Code Scenario  \\\n0          1         9  Argentina    Argentina              1     GISS   \n1          1         9  Argentina    Argentina              2     GISS   \n2          1         9  Argentina    Argentina              3     GISS   \n3          1         9  Argentina    Argentina              4     GISS   \n4          1         9  Argentina    Argentina              5     GFDL   \n\n    Time_Slice CO2 effects  CO2 ppm Adapt- ation  wheat  rice  coarse grains  \\\n0  Equilibrium          No      330           No    -46   -46            -17   \n1  Equilibrium         Yes      555           No    -34   -35            -13   \n2  Equilibrium         Yes      555      Level 1    -15   -15              0   \n3  Equilibrium         Yes      555      Level 2      0     0              0   \n4  Equilibrium          No      330           No    -43   -43            -28   \n\n   protein feed  grains  four commo-dities  \n0           -17     -36                -32  \n1             0     -27                -21  \n2            17     -10                 -3  \n3            17       0                  4  \n4           -28     -38                -36  ",
      "text/html": "<div>\n<style scoped>\n    .dataframe tbody tr th:only-of-type {\n        vertical-align: middle;\n    }\n\n    .dataframe tbody tr th {\n        vertical-align: top;\n    }\n\n    .dataframe thead th {\n        text-align: right;\n    }\n</style>\n<table border=\"1\" class=\"dataframe\">\n  <thead>\n    <tr style=\"text-align: right;\">\n      <th></th>\n      <th>File Code</th>\n      <th>BLS Code</th>\n      <th>BLS Region</th>\n      <th>BLS Region 2</th>\n      <th>Scenario Code</th>\n      <th>Scenario</th>\n      <th>Time_Slice</th>\n      <th>CO2 effects</th>\n      <th>CO2 ppm</th>\n      <th>Adapt- ation</th>\n      <th>wheat</th>\n      <th>rice</th>\n      <th>coarse grains</th>\n      <th>protein feed</th>\n      <th>grains</th>\n      <th>four commo-dities</th>\n    </tr>\n  </thead>\n  <tbody>\n    <tr>\n      <th>0</th>\n      <td>1</td>\n      <td>9</td>\n      <td>Argentina</td>\n      <td>Argentina</td>\n      <td>1</td>\n      <td>GISS</td>\n      <td>Equilibrium</td>\n      <td>No</td>\n      <td>330</td>\n      <td>No</td>\n      <td>-46</td>\n      <td>-46</td>\n      <td>-17</td>\n      <td>-17</td>\n      <td>-36</td>\n      <td>-32</td>\n    </tr>\n    <tr>\n      <th>1</th>\n      <td>1</td>\n      <td>9</td>\n      <td>Argentina</td>\n      <td>Argentina</td>\n      <td>2</td>\n      <td>GISS</td>\n      <td>Equilibrium</td>\n      <td>Yes</td>\n      <td>555</td>\n      <td>No</td>\n      <td>-34</td>\n      <td>-35</td>\n      <td>-13</td>\n      <td>0</td>\n      <td>-27</td>\n      <td>-21</td>\n    </tr>\n    <tr>\n      <th>2</th>\n      <td>1</td>\n      <td>9</td>\n      <td>Argentina</td>\n      <td>Argentina</td>\n      <td>3</td>\n      <td>GISS</td>\n      <td>Equilibrium</td>\n      <td>Yes</td>\n      <td>555</td>\n      <td>Level 1</td>\n      <td>-15</td>\n      <td>-15</td>\n      <td>0</td>\n      <td>17</td>\n      <td>-10</td>\n      <td>-3</td>\n    </tr>\n    <tr>\n      <th>3</th>\n      <td>1</td>\n      <td>9</td>\n      <td>Argentina</td>\n      <td>Argentina</td>\n      <td>4</td>\n      <td>GISS</td>\n      <td>Equilibrium</td>\n      <td>Yes</td>\n      <td>555</td>\n      <td>Level 2</td>\n      <td>0</td>\n      <td>0</td>\n      <td>0</td>\n      <td>17</td>\n      <td>0</td>\n      <td>4</td>\n    </tr>\n    <tr>\n      <th>4</th>\n      <td>1</td>\n      <td>9</td>\n      <td>Argentina</td>\n      <td>Argentina</td>\n      <td>5</td>\n      <td>GFDL</td>\n      <td>Equilibrium</td>\n      <td>No</td>\n      <td>330</td>\n      <td>No</td>\n      <td>-43</td>\n      <td>-43</td>\n      <td>-28</td>\n      <td>-28</td>\n      <td>-38</td>\n      <td>-36</td>\n    </tr>\n  </tbody>\n</table>\n</div>"
     },
     "metadata": {},
     "execution_count": 9
    }
   ],
   "source": [
    "df.head()"
   ]
  },
  {
   "cell_type": "code",
   "execution_count": 10,
   "metadata": {},
   "outputs": [
    {
     "output_type": "execute_result",
     "data": {
      "text/plain": "         File Code     BLS Code  Scenario Code      CO2 ppm        wheat  \\\ncount  1088.000000  1088.000000    1088.000000  1088.000000  1088.000000   \nmean     16.500000   479.437500      25.264706   453.441176   -10.056066   \nstd       9.237339   396.618146      14.916997   115.364676    14.767115   \nmin       1.000000     9.000000       1.000000   330.000000   -73.000000   \n25%       8.750000   107.750000       9.000000   330.000000   -17.000000   \n50%      16.500000   227.000000      29.500000   466.500000    -7.000000   \n75%      24.250000   905.250000      38.000000   555.000000     0.000000   \nmax      32.000000   913.000000      46.000000   712.000000    31.000000   \n\n              rice  coarse grains  protein feed       grains  \\\ncount  1088.000000    1088.000000   1088.000000  1088.000000   \nmean    -10.006434     -11.458640     -5.479779   -10.515625   \nstd      13.092585      12.000465     13.624331    12.594144   \nmin     -73.000000     -68.000000    -58.000000   -71.000000   \n25%     -15.000000     -18.000000    -13.000000   -17.000000   \n50%      -7.000000     -10.000000     -5.000000    -8.000000   \n75%      -1.000000      -3.000000      3.000000    -2.000000   \nmax      30.000000      25.000000     32.000000    28.000000   \n\n       four commo-dities  \ncount        1088.000000  \nmean           -9.332721  \nstd            12.517203  \nmin           -68.000000  \n25%           -15.000000  \n50%            -7.000000  \n75%            -1.000000  \nmax            29.000000  ",
      "text/html": "<div>\n<style scoped>\n    .dataframe tbody tr th:only-of-type {\n        vertical-align: middle;\n    }\n\n    .dataframe tbody tr th {\n        vertical-align: top;\n    }\n\n    .dataframe thead th {\n        text-align: right;\n    }\n</style>\n<table border=\"1\" class=\"dataframe\">\n  <thead>\n    <tr style=\"text-align: right;\">\n      <th></th>\n      <th>File Code</th>\n      <th>BLS Code</th>\n      <th>Scenario Code</th>\n      <th>CO2 ppm</th>\n      <th>wheat</th>\n      <th>rice</th>\n      <th>coarse grains</th>\n      <th>protein feed</th>\n      <th>grains</th>\n      <th>four commo-dities</th>\n    </tr>\n  </thead>\n  <tbody>\n    <tr>\n      <th>count</th>\n      <td>1088.000000</td>\n      <td>1088.000000</td>\n      <td>1088.000000</td>\n      <td>1088.000000</td>\n      <td>1088.000000</td>\n      <td>1088.000000</td>\n      <td>1088.000000</td>\n      <td>1088.000000</td>\n      <td>1088.000000</td>\n      <td>1088.000000</td>\n    </tr>\n    <tr>\n      <th>mean</th>\n      <td>16.500000</td>\n      <td>479.437500</td>\n      <td>25.264706</td>\n      <td>453.441176</td>\n      <td>-10.056066</td>\n      <td>-10.006434</td>\n      <td>-11.458640</td>\n      <td>-5.479779</td>\n      <td>-10.515625</td>\n      <td>-9.332721</td>\n    </tr>\n    <tr>\n      <th>std</th>\n      <td>9.237339</td>\n      <td>396.618146</td>\n      <td>14.916997</td>\n      <td>115.364676</td>\n      <td>14.767115</td>\n      <td>13.092585</td>\n      <td>12.000465</td>\n      <td>13.624331</td>\n      <td>12.594144</td>\n      <td>12.517203</td>\n    </tr>\n    <tr>\n      <th>min</th>\n      <td>1.000000</td>\n      <td>9.000000</td>\n      <td>1.000000</td>\n      <td>330.000000</td>\n      <td>-73.000000</td>\n      <td>-73.000000</td>\n      <td>-68.000000</td>\n      <td>-58.000000</td>\n      <td>-71.000000</td>\n      <td>-68.000000</td>\n    </tr>\n    <tr>\n      <th>25%</th>\n      <td>8.750000</td>\n      <td>107.750000</td>\n      <td>9.000000</td>\n      <td>330.000000</td>\n      <td>-17.000000</td>\n      <td>-15.000000</td>\n      <td>-18.000000</td>\n      <td>-13.000000</td>\n      <td>-17.000000</td>\n      <td>-15.000000</td>\n    </tr>\n    <tr>\n      <th>50%</th>\n      <td>16.500000</td>\n      <td>227.000000</td>\n      <td>29.500000</td>\n      <td>466.500000</td>\n      <td>-7.000000</td>\n      <td>-7.000000</td>\n      <td>-10.000000</td>\n      <td>-5.000000</td>\n      <td>-8.000000</td>\n      <td>-7.000000</td>\n    </tr>\n    <tr>\n      <th>75%</th>\n      <td>24.250000</td>\n      <td>905.250000</td>\n      <td>38.000000</td>\n      <td>555.000000</td>\n      <td>0.000000</td>\n      <td>-1.000000</td>\n      <td>-3.000000</td>\n      <td>3.000000</td>\n      <td>-2.000000</td>\n      <td>-1.000000</td>\n    </tr>\n    <tr>\n      <th>max</th>\n      <td>32.000000</td>\n      <td>913.000000</td>\n      <td>46.000000</td>\n      <td>712.000000</td>\n      <td>31.000000</td>\n      <td>30.000000</td>\n      <td>25.000000</td>\n      <td>32.000000</td>\n      <td>28.000000</td>\n      <td>29.000000</td>\n    </tr>\n  </tbody>\n</table>\n</div>"
     },
     "metadata": {},
     "execution_count": 10
    }
   ],
   "source": [
    "df.describe() "
   ]
  },
  {
   "cell_type": "code",
   "execution_count": 11,
   "metadata": {},
   "outputs": [
    {
     "output_type": "execute_result",
     "data": {
      "text/plain": "      File Code  BLS Code   BLS Region BLS Region 2  Scenario Code  Scenario  \\\n0             1         9    Argentina    Argentina              1      GISS   \n1             1         9    Argentina    Argentina              2      GISS   \n2             1         9    Argentina    Argentina              3      GISS   \n3             1         9    Argentina    Argentina              4      GISS   \n4             1         9    Argentina    Argentina              5      GFDL   \n...         ...       ...          ...          ...            ...       ...   \n1083         32       156  New Zealand  New Zealand             42  CM2-S750   \n1084         32       156  New Zealand  New Zealand             43  CM2-S750   \n1085         32       156  New Zealand  New Zealand             44  CM2-S750   \n1086         32       156  New Zealand  New Zealand             45  CM2-S750   \n1087         32       156  New Zealand  New Zealand             46  CM2-S750   \n\n       Time_Slice CO2 effects  CO2 ppm Adapt- ation  wheat  rice  \\\n0     Equilibrium          No      330           No    -46   -46   \n1     Equilibrium         Yes      555           No    -34   -35   \n2     Equilibrium         Yes      555      Level 1    -15   -15   \n3     Equilibrium         Yes      555      Level 2      0     0   \n4     Equilibrium          No      330           No    -43   -43   \n...           ...         ...      ...          ...    ...   ...   \n1083         2050         Yes      501      Level 1      8     5   \n1084         2080          No      330      Level 1      0     0   \n1085         2080         Yes      577      Level 1     12    11   \n1086         2110          No      330      Level 1     -2    -2   \n1087         2110         Yes      643      Level 1     13    12   \n\n      coarse grains  protein feed  grains  four commo-dities  \n0               -17           -17     -36                -32  \n1               -13             0     -27                -21  \n2                 0            17     -10                 -3  \n3                 0            17       0                  4  \n4               -28           -28     -38                -36  \n...             ...           ...     ...                ...  \n1083              3            22       5                 10  \n1084              1            12       0                  3  \n1085              5            29       9                 14  \n1086             -2            11      -2                  1  \n1087              3            31       9                 15  \n\n[1088 rows x 16 columns]",
      "text/html": "<div>\n<style scoped>\n    .dataframe tbody tr th:only-of-type {\n        vertical-align: middle;\n    }\n\n    .dataframe tbody tr th {\n        vertical-align: top;\n    }\n\n    .dataframe thead th {\n        text-align: right;\n    }\n</style>\n<table border=\"1\" class=\"dataframe\">\n  <thead>\n    <tr style=\"text-align: right;\">\n      <th></th>\n      <th>File Code</th>\n      <th>BLS Code</th>\n      <th>BLS Region</th>\n      <th>BLS Region 2</th>\n      <th>Scenario Code</th>\n      <th>Scenario</th>\n      <th>Time_Slice</th>\n      <th>CO2 effects</th>\n      <th>CO2 ppm</th>\n      <th>Adapt- ation</th>\n      <th>wheat</th>\n      <th>rice</th>\n      <th>coarse grains</th>\n      <th>protein feed</th>\n      <th>grains</th>\n      <th>four commo-dities</th>\n    </tr>\n  </thead>\n  <tbody>\n    <tr>\n      <th>0</th>\n      <td>1</td>\n      <td>9</td>\n      <td>Argentina</td>\n      <td>Argentina</td>\n      <td>1</td>\n      <td>GISS</td>\n      <td>Equilibrium</td>\n      <td>No</td>\n      <td>330</td>\n      <td>No</td>\n      <td>-46</td>\n      <td>-46</td>\n      <td>-17</td>\n      <td>-17</td>\n      <td>-36</td>\n      <td>-32</td>\n    </tr>\n    <tr>\n      <th>1</th>\n      <td>1</td>\n      <td>9</td>\n      <td>Argentina</td>\n      <td>Argentina</td>\n      <td>2</td>\n      <td>GISS</td>\n      <td>Equilibrium</td>\n      <td>Yes</td>\n      <td>555</td>\n      <td>No</td>\n      <td>-34</td>\n      <td>-35</td>\n      <td>-13</td>\n      <td>0</td>\n      <td>-27</td>\n      <td>-21</td>\n    </tr>\n    <tr>\n      <th>2</th>\n      <td>1</td>\n      <td>9</td>\n      <td>Argentina</td>\n      <td>Argentina</td>\n      <td>3</td>\n      <td>GISS</td>\n      <td>Equilibrium</td>\n      <td>Yes</td>\n      <td>555</td>\n      <td>Level 1</td>\n      <td>-15</td>\n      <td>-15</td>\n      <td>0</td>\n      <td>17</td>\n      <td>-10</td>\n      <td>-3</td>\n    </tr>\n    <tr>\n      <th>3</th>\n      <td>1</td>\n      <td>9</td>\n      <td>Argentina</td>\n      <td>Argentina</td>\n      <td>4</td>\n      <td>GISS</td>\n      <td>Equilibrium</td>\n      <td>Yes</td>\n      <td>555</td>\n      <td>Level 2</td>\n      <td>0</td>\n      <td>0</td>\n      <td>0</td>\n      <td>17</td>\n      <td>0</td>\n      <td>4</td>\n    </tr>\n    <tr>\n      <th>4</th>\n      <td>1</td>\n      <td>9</td>\n      <td>Argentina</td>\n      <td>Argentina</td>\n      <td>5</td>\n      <td>GFDL</td>\n      <td>Equilibrium</td>\n      <td>No</td>\n      <td>330</td>\n      <td>No</td>\n      <td>-43</td>\n      <td>-43</td>\n      <td>-28</td>\n      <td>-28</td>\n      <td>-38</td>\n      <td>-36</td>\n    </tr>\n    <tr>\n      <th>...</th>\n      <td>...</td>\n      <td>...</td>\n      <td>...</td>\n      <td>...</td>\n      <td>...</td>\n      <td>...</td>\n      <td>...</td>\n      <td>...</td>\n      <td>...</td>\n      <td>...</td>\n      <td>...</td>\n      <td>...</td>\n      <td>...</td>\n      <td>...</td>\n      <td>...</td>\n      <td>...</td>\n    </tr>\n    <tr>\n      <th>1083</th>\n      <td>32</td>\n      <td>156</td>\n      <td>New Zealand</td>\n      <td>New Zealand</td>\n      <td>42</td>\n      <td>CM2-S750</td>\n      <td>2050</td>\n      <td>Yes</td>\n      <td>501</td>\n      <td>Level 1</td>\n      <td>8</td>\n      <td>5</td>\n      <td>3</td>\n      <td>22</td>\n      <td>5</td>\n      <td>10</td>\n    </tr>\n    <tr>\n      <th>1084</th>\n      <td>32</td>\n      <td>156</td>\n      <td>New Zealand</td>\n      <td>New Zealand</td>\n      <td>43</td>\n      <td>CM2-S750</td>\n      <td>2080</td>\n      <td>No</td>\n      <td>330</td>\n      <td>Level 1</td>\n      <td>0</td>\n      <td>0</td>\n      <td>1</td>\n      <td>12</td>\n      <td>0</td>\n      <td>3</td>\n    </tr>\n    <tr>\n      <th>1085</th>\n      <td>32</td>\n      <td>156</td>\n      <td>New Zealand</td>\n      <td>New Zealand</td>\n      <td>44</td>\n      <td>CM2-S750</td>\n      <td>2080</td>\n      <td>Yes</td>\n      <td>577</td>\n      <td>Level 1</td>\n      <td>12</td>\n      <td>11</td>\n      <td>5</td>\n      <td>29</td>\n      <td>9</td>\n      <td>14</td>\n    </tr>\n    <tr>\n      <th>1086</th>\n      <td>32</td>\n      <td>156</td>\n      <td>New Zealand</td>\n      <td>New Zealand</td>\n      <td>45</td>\n      <td>CM2-S750</td>\n      <td>2110</td>\n      <td>No</td>\n      <td>330</td>\n      <td>Level 1</td>\n      <td>-2</td>\n      <td>-2</td>\n      <td>-2</td>\n      <td>11</td>\n      <td>-2</td>\n      <td>1</td>\n    </tr>\n    <tr>\n      <th>1087</th>\n      <td>32</td>\n      <td>156</td>\n      <td>New Zealand</td>\n      <td>New Zealand</td>\n      <td>46</td>\n      <td>CM2-S750</td>\n      <td>2110</td>\n      <td>Yes</td>\n      <td>643</td>\n      <td>Level 1</td>\n      <td>13</td>\n      <td>12</td>\n      <td>3</td>\n      <td>31</td>\n      <td>9</td>\n      <td>15</td>\n    </tr>\n  </tbody>\n</table>\n<p>1088 rows × 16 columns</p>\n</div>"
     },
     "metadata": {},
     "execution_count": 11
    }
   ],
   "source": [
    "df"
   ]
  },
  {
   "cell_type": "code",
   "execution_count": 12,
   "metadata": {},
   "outputs": [
    {
     "output_type": "execute_result",
     "data": {
      "text/plain": "array([&#39;Argentina&#39;, &#39;Brazil&#39;, &#39;Mexico&#39;, &#39;L.A. High Inc. Cal. Exp.&#39;,\n       &#39;L.A. High Inc. Cal. Imp.&#39;, &#39;L.A. Med.-Low Inc.&#39;, &#39;USA&#39;, &#39;Canada&#39;,\n       &#39;EU&#39;, &#39;Turkey&#39;, &#39;Russia + Republics&#39;, &#39;Egypt&#39;, &#39;Kenya&#39;, &#39;Nigeria&#39;,\n       &#39;Afr. Oil Exporters&#39;, &#39;Afr. Med. Inc. Cal. Exp.&#39;,\n       &#39;Afr. Med. Inc. Cal. Imp.&#39;, &#39;Afr. Low Inc. Cal. Exp.&#39;,\n       &#39;Afr. Low Inc. Cal. Imp.&#39;, &#39;N.E.A. Oil Exp. High Inc.&#39;,\n       &#39;N.E.A. Med.-Low Inc.&#39;, &#39;Pakistan&#39;, &#39;India&#39;, &#39;Indonesia&#39;,\n       &#39;Thailand&#39;, &#39;China&#39;, &#39;Japan&#39;, &#39;F.E.A. High-Med. Inc. Cal. Exp.&#39;,\n       &#39;F.E.A. High-Med. Inc. Cal. Imp.&#39;, &#39;F.E.A. Low Inc.&#39;, &#39;Australia&#39;,\n       &#39;New Zealand&#39;], dtype=object)"
     },
     "metadata": {},
     "execution_count": 12
    }
   ],
   "source": [
    "df['BLS Region'].unique()"
   ]
  },
  {
   "cell_type": "code",
   "execution_count": 13,
   "metadata": {},
   "outputs": [
    {
     "output_type": "execute_result",
     "data": {
      "text/plain": "array([&#39;Argentina&#39;, &#39;Brazil&#39;, &#39;Mexico&#39;, &#39;Latin Amer 1&#39;, &#39;Latin Amer 2&#39;,\n       &#39;Latin Amer 3&#39;, &#39;USA&#39;, &#39;Canada&#39;, &#39;Europe&#39;, &#39;Turkey&#39;,\n       &#39;Russia + Republics&#39;, &#39;Egypt&#39;, &#39;Kenya&#39;, &#39;Nigeria&#39;, &#39;Africa 1&#39;,\n       &#39;Africa 2&#39;, &#39;Africa 3&#39;, &#39;Africa 4&#39;, &#39;Africa 5&#39;, &#39;NE Asia 1&#39;,\n       &#39;NE Asia 2&#39;, &#39;Pakistan&#39;, &#39;India&#39;, &#39;Indonesia&#39;, &#39;Thailand&#39;, &#39;China&#39;,\n       &#39;Japan&#39;, &#39;FE Asia 1&#39;, &#39;FE Asia 2&#39;, &#39;FE Asia 3&#39;, &#39;Australia&#39;,\n       &#39;New Zealand&#39;], dtype=object)"
     },
     "metadata": {},
     "execution_count": 13
    }
   ],
   "source": [
    "df['BLS Region 2'].unique()"
   ]
  },
  {
   "cell_type": "code",
   "execution_count": null,
   "metadata": {},
   "outputs": [],
   "source": []
  }
 ],
 "metadata": {
  "kernelspec": {
   "display_name": "Python 3",
   "language": "python",
   "name": "python3"
  },
  "language_info": {
   "codemirror_mode": {
    "name": "ipython",
    "version": 3
   },
   "file_extension": ".py",
   "mimetype": "text/x-python",
   "name": "python",
   "nbconvert_exporter": "python",
   "pygments_lexer": "ipython3",
   "version": "3.7.7-final"
  }
 },
 "nbformat": 4,
 "nbformat_minor": 4
}